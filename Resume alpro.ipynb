{
 "cells": [
  {
   "cell_type": "markdown",
   "id": "827dcf1c-96b0-431d-a5e4-407bbf8a8a0c",
   "metadata": {},
   "source": [
    "# **TALITHA SHAFA AZZAHRA (103102400079)**"
   ]
  },
  {
   "cell_type": "code",
   "execution_count": null,
   "id": "797a0591-4366-4825-ba57-60e72f0baf5c",
   "metadata": {},
   "outputs": [],
   "source": [
    "- Variabel\n",
    "Aturan penulisan variabel:\n",
    "Nama variabel boleh diawali menggunakan huruf atau garis bawah _. Contoh: nama, _nama, namaKu, nama_variabel\n",
    "Karakter selanjutnya dapat berupa huruf, garis bawah _ atau angka. Contoh: __nama, n2, nilai1\n",
    "Variabel tidak boleh dimulai dengan angka ataupun simbol.\n",
    "Variabel tidak boleh berupa kata kunci (keyword) yang ada dalam Python. Contoh: if, else, while, for, dan masih banyak lagi"
   ]
  },
  {
   "cell_type": "code",
   "execution_count": 7,
   "id": "6fcff9d5-2945-4286-a64e-6edc78b14486",
   "metadata": {},
   "outputs": [
    {
     "name": "stdout",
     "output_type": "stream",
     "text": [
      "Nama saya adalah Shafa dan usia saya adalah 19\n"
     ]
    }
   ],
   "source": [
    "nama = \"Shafa\"\n",
    "usia = 19\n",
    "\n",
    "print(\"Nama saya adalah\", nama, \"dan usia saya adalah\", usia)"
   ]
  },
  {
   "cell_type": "markdown",
   "id": "7c0adac1-927a-45e2-96e5-6f412769de7f",
   "metadata": {},
   "source": [
    "- Tipe data\n",
    "   Data type adalah tipe data yang menentukan jenis data yang dapat disimpan dalam variable. Python memiliki berbagai jenis data, seperti integer, float, string, dan boolean."
   ]
  },
  {
   "cell_type": "code",
   "execution_count": 9,
   "id": "6d7177d0-19c9-4729-91af-0cbd82e1bec0",
   "metadata": {},
   "outputs": [
    {
     "name": "stdout",
     "output_type": "stream",
     "text": [
      "Nama depan saya: Caca\n",
      "Umur saya: 25\n",
      "Berat badan saya: 55.5\n",
      "Apakah saya sudah menikah? False\n"
     ]
    }
   ],
   "source": [
    "nama_depan = \"Caca\"\n",
    "umur = 25\n",
    "berat_badan = 55.5\n",
    "status_menikah = False\n",
    "\n",
    "print(\"Nama depan saya:\", nama_depan)\n",
    "print(\"Umur saya:\", umur)\n",
    "print(\"Berat badan saya:\", berat_badan)\n",
    "print(\"Apakah saya sudah menikah?\", status_menikah)\n"
   ]
  },
  {
   "cell_type": "markdown",
   "id": "fbcce3e4-f07f-4d02-9d20-9df73b4582e1",
   "metadata": {},
   "source": [
    "- MultiStatment Variabel\n",
    "  Multistatement pada variabel merujuk pada penggunaan lebih dari satu pernyataan dalam satu baris kode untuk mendeklarasikan beberapa variabel sekaligus."
   ]
  },
  {
   "cell_type": "code",
   "execution_count": 11,
   "id": "616ee5e5-92d7-4d1c-b573-8375692b84bb",
   "metadata": {},
   "outputs": [
    {
     "name": "stdout",
     "output_type": "stream",
     "text": [
      "Ari\n",
      "20\n",
      "1.75\n"
     ]
    }
   ],
   "source": [
    "nama, usia, tinggi = \"Ari\", 20, 1.75\n",
    "print(nama)  \n",
    "print(usia)   \n",
    "print(tinggi)"
   ]
  },
  {
   "cell_type": "markdown",
   "id": "56d2b2d9-6738-4478-b7e7-81d85c55b82e",
   "metadata": {},
   "source": [
    "- Input dari Pengguna\n",
    "Fungsi input() digunakan untuk mengambil input dari pengguna. Secara default, input yang diambil berupa string, namun kita bisa mengkonversinya ke tipe data lain seperti int atau float menggunakan fungsi int() dan float()."
   ]
  },
  {
   "cell_type": "code",
   "execution_count": 13,
   "id": "80b2f038-9436-4ebd-a776-a381b898f855",
   "metadata": {},
   "outputs": [
    {
     "name": "stdin",
     "output_type": "stream",
     "text": [
      "Masukkan tinggi badan (meter):  165\n",
      "Masukkan berat badan (kg):  45\n"
     ]
    },
    {
     "name": "stdout",
     "output_type": "stream",
     "text": [
      "BMI Anda adalah: 0.0\n"
     ]
    }
   ],
   "source": [
    "tinggi = float(input(\"Masukkan tinggi badan (meter): \"))\n",
    "berat = float(input(\"Masukkan berat badan (kg): \"))\n",
    "\n",
    "bmi = berat / (tinggi ** 2)\n",
    "\n",
    "\n",
    "print(\"BMI Anda adalah:\", round(bmi, 2))\n"
   ]
  },
  {
   "cell_type": "markdown",
   "id": "29753bb9-0e27-4ce9-8d6e-7033f78c5501",
   "metadata": {},
   "source": [
    "-  Percabangan\n",
    "  Percabangan digunakan untuk membuat keputusan dalam program. Dengan percabangan, kita dapat menjalankan blok kode tertentu hanya jika suatu kondisi terpenuhi.\n",
    "\n",
    "Di Python, percabangan biasanya dilakukan dengan menggunakan pernyataan if, elif, dan else."
   ]
  },
  {
   "cell_type": "code",
   "execution_count": 15,
   "id": "72e2d2dc-d962-4e5b-8f85-b8a0bcd43168",
   "metadata": {},
   "outputs": [
    {
     "name": "stdin",
     "output_type": "stream",
     "text": [
      "Masukkan usia Anda:  19\n"
     ]
    },
    {
     "name": "stdout",
     "output_type": "stream",
     "text": [
      "Anda adalah remaja.\n"
     ]
    }
   ],
   "source": [
    "usia = int(input(\"Masukkan usia Anda: \"))\n",
    "\n",
    "if usia < 13:\n",
    "    print(\"Anda adalah anak-anak.\")\n",
    "elif 13 <= usia < 20:\n",
    "    print(\"Anda adalah remaja.\")\n",
    "else:\n",
    "    print(\"Anda adalah dewasa.\")\n"
   ]
  },
  {
   "cell_type": "code",
   "execution_count": null,
   "id": "4c495602-cb3c-4d4f-b63c-d651873571b8",
   "metadata": {},
   "outputs": [],
   "source": [
    "-  Looping and While\n",
    "digunakan untuk menjalankan blok kode selama kondisi yang diberikan bernilai True. Jika kondisi berubah menjadi False, maka loop akan berhenti."
   ]
  },
  {
   "cell_type": "code",
   "execution_count": 17,
   "id": "5b522ebd-7af0-4722-887b-16e7f8779c3c",
   "metadata": {},
   "outputs": [
    {
     "name": "stdout",
     "output_type": "stream",
     "text": [
      "1\n",
      "2\n",
      "3\n",
      "4\n",
      "5\n"
     ]
    }
   ],
   "source": [
    "i = 1\n",
    "while i <= 5:\n",
    "    print(i)\n",
    "    i += 1  "
   ]
  },
  {
   "cell_type": "markdown",
   "id": "378b7f8f-39ec-4724-829a-6b26e36e7315",
   "metadata": {},
   "source": [
    "1. Penjumlahan sederhana dalam Python dilakukan dengan menggunakan operator +. Kita bisa menjumlahkan dua angka, atau lebih, baik yang bertipe int (bilangan bulat) maupun float (bilangan desimal)."
   ]
  },
  {
   "cell_type": "code",
   "execution_count": 24,
   "id": "584fca84-b715-49f1-8346-8ee203d50f9c",
   "metadata": {},
   "outputs": [
    {
     "name": "stdin",
     "output_type": "stream",
     "text": [
      "Masukkan angka pertama:  14\n",
      "Masukkan angka kedua:  8\n"
     ]
    },
    {
     "name": "stdout",
     "output_type": "stream",
     "text": [
      "Hasil penjumlahan: 22\n"
     ]
    }
   ],
   "source": [
    "angka1 = int(input(\"Masukkan angka pertama: \"))\n",
    "angka2 = int(input(\"Masukkan angka kedua: \"))\n",
    "\n",
    "hasil = angka1 + angka2\n",
    "\n",
    "print(\"Hasil penjumlahan:\", hasil)\n"
   ]
  },
  {
   "cell_type": "markdown",
   "id": "ab807a97-ff96-4dce-952a-69c53f74a87c",
   "metadata": {},
   "source": [
    "2. Pangkat (Eksponensial)\n",
    "Pangkat (eksponensial) dalam Python digunakan untuk menghitung hasil dari suatu bilangan yang dipangkatkan ke suatu nilai tertentu. Kita dapat menggunakan operator ** atau fungsi pow() untuk melakukan operasi ini."
   ]
  },
  {
   "cell_type": "code",
   "execution_count": 26,
   "id": "ece4d9ca-0954-480b-8acd-c7115b025aeb",
   "metadata": {},
   "outputs": [
    {
     "name": "stdout",
     "output_type": "stream",
     "text": [
      "5 dipangkatkan 3 hasilnya adalah 125\n"
     ]
    }
   ],
   "source": [
    "angka = 5\n",
    "pangkat = 3\n",
    "hasil = angka ** pangkat  # 5^3 = 125\n",
    "\n",
    "print(f\"{angka} dipangkatkan {pangkat} hasilnya adalah {hasil}\")\n"
   ]
  },
  {
   "cell_type": "markdown",
   "id": "fc13b47a-8d9b-4aa8-94c1-d2eb6096f7ae",
   "metadata": {},
   "source": [
    "3. Sisa Bagi (Modulo)\n",
    "   Operasi modulo digunakan untuk menghitung sisa dari pembagian dua angka. Di Python, operasi modulo dilakukan dengan menggunakan operator %."
   ]
  },
  {
   "cell_type": "code",
   "execution_count": 28,
   "id": "62079c9c-27a1-4748-bf15-a9032d961611",
   "metadata": {},
   "outputs": [
    {
     "name": "stdout",
     "output_type": "stream",
     "text": [
      "Sisa dari 10 dibagi 3 adalah 1\n"
     ]
    }
   ],
   "source": [
    "angka1 = 10\n",
    "angka2 = 3\n",
    "sisa = angka1 % angka2  \n",
    "\n",
    "print(f\"Sisa dari {angka1} dibagi {angka2} adalah {sisa}\")\n"
   ]
  },
  {
   "cell_type": "code",
   "execution_count": null,
   "id": "56a39584-95a0-4dc4-bf0f-2d0aa9b18dd7",
   "metadata": {},
   "outputs": [],
   "source": [
    "4. Akar Kuadrat\n",
    "Untuk menghitung akar kuadrat dari suatu angka di Python, kita bisa menggunakan dua metode utama:\n",
    "Fungsi sqrt() dari Modul math\n",
    "Operator Pangkat (**) dengan eksponen 0.5"
   ]
  },
  {
   "cell_type": "code",
   "execution_count": 30,
   "id": "98719e1d-caee-45c3-a54a-3a35ac103856",
   "metadata": {},
   "outputs": [
    {
     "name": "stdin",
     "output_type": "stream",
     "text": [
      "Masukkan angka untuk dihitung akar kuadratnya:  25\n"
     ]
    },
    {
     "name": "stdout",
     "output_type": "stream",
     "text": [
      "Akar kuadrat dari 25.0 adalah 5.0\n"
     ]
    }
   ],
   "source": [
    "import math\n",
    "\n",
    "angka = float(input(\"Masukkan angka untuk dihitung akar kuadratnya: \"))\n",
    "\n",
    "akar = math.sqrt(angka)\n",
    "\n",
    "print(f\"Akar kuadrat dari {angka} adalah {akar}\")\n"
   ]
  },
  {
   "cell_type": "markdown",
   "id": "492b863a-0476-4e1d-b909-e937769526b4",
   "metadata": {},
   "source": [
    "5. Luas Segita"
   ]
  },
  {
   "cell_type": "code",
   "execution_count": 32,
   "id": "d6731d5d-cccb-4456-b668-4971c7a979cb",
   "metadata": {},
   "outputs": [
    {
     "name": "stdin",
     "output_type": "stream",
     "text": [
      "Masukkan panjang alas segitiga (dalam satuan yang diinginkan):  10\n",
      "Masukkan tinggi segitiga (dalam satuan yang diinginkan):  5\n"
     ]
    },
    {
     "name": "stdout",
     "output_type": "stream",
     "text": [
      "Luas segitiga dengan alas 10.0 dan tinggi 5.0 adalah 25.0\n"
     ]
    }
   ],
   "source": [
    "alas = float(input(\"Masukkan panjang alas segitiga (dalam satuan yang diinginkan): \"))\n",
    "tinggi = float(input(\"Masukkan tinggi segitiga (dalam satuan yang diinginkan): \"))\n",
    "\n",
    "luas = 0.5 * alas * tinggi\n",
    "\n",
    "print(f\"Luas segitiga dengan alas {alas} dan tinggi {tinggi} adalah {luas}\")\n"
   ]
  },
  {
   "cell_type": "markdown",
   "id": "40e10171-57be-45ec-ae81-b3f60a60ec77",
   "metadata": {},
   "source": [
    "1.Percabangan 'If' (Single Alternative Selection)\n",
    "Single Alternative Selection atau Percabangan Satu Pilihan adalah tipe percabangan yang hanya memiliki satu pilihan untuk dijalankan jika kondisi terpenuhi. Dalam kasus ini, jika kondisi True, maka blok kode dalam pernyataan if akan dieksekusi. Jika kondisi False, tidak ada aksi yang dilakukan."
   ]
  },
  {
   "cell_type": "code",
   "execution_count": 35,
   "id": "89bdcac9-bb36-451c-a114-5816040aba9c",
   "metadata": {},
   "outputs": [
    {
     "name": "stdout",
     "output_type": "stream",
     "text": [
      "Anda sudah dewasa.\n"
     ]
    }
   ],
   "source": [
    "umur = 20\n",
    "if umur >= 18:\n",
    "    print(\"Anda sudah dewasa.\")"
   ]
  },
  {
   "cell_type": "code",
   "execution_count": null,
   "id": "d60b7f72-8f3e-4809-914c-61a14acd3d51",
   "metadata": {},
   "outputs": [],
   "source": [
    "2.Percabangan 'If-Else' (Dual Alternative Selection):"
   ]
  },
  {
   "cell_type": "code",
   "execution_count": 37,
   "id": "1be07a96-2d66-4d2d-b8c4-d2b7931359f1",
   "metadata": {},
   "outputs": [
    {
     "name": "stdout",
     "output_type": "stream",
     "text": [
      "Anda lulus.\n"
     ]
    }
   ],
   "source": [
    "nilai = 70\n",
    "if nilai >= 60:\n",
    "    print(\"Anda lulus.\")\n",
    "else:\n",
    "    print(\"Anda belum lulus.\")"
   ]
  },
  {
   "cell_type": "code",
   "execution_count": null,
   "id": "f1ee581b-cd8d-4984-a6cb-0eb7f3c085b3",
   "metadata": {},
   "outputs": [],
   "source": [
    "3.Percabangan 'If-Elif-Else' (Multiple Alternative Selection)"
   ]
  },
  {
   "cell_type": "code",
   "execution_count": 39,
   "id": "ed404ea6-b376-4638-bdbf-12473202d527",
   "metadata": {},
   "outputs": [
    {
     "name": "stdout",
     "output_type": "stream",
     "text": [
      "C\n"
     ]
    }
   ],
   "source": [
    "nilai = 75\n",
    "if nilai >= 90:\n",
    "    print(\"A\")\n",
    "elif nilai >= 80:\n",
    "    print(\"B\")\n",
    "elif nilai >= 70:\n",
    "    print(\"C\")\n",
    "else:\n",
    "    print(\"D\")"
   ]
  },
  {
   "cell_type": "code",
   "execution_count": null,
   "id": "372a82a0-feb1-4a4e-842c-ed16589f75c1",
   "metadata": {},
   "outputs": [],
   "source": [
    "4. Percabangan Bersarang (Nested If)\n",
    "Cabang Bersarang ada if di if lainnya"
   ]
  },
  {
   "cell_type": "code",
   "execution_count": 41,
   "id": "3d371e5a-afca-4067-9b8b-d54d157f1cd8",
   "metadata": {},
   "outputs": [
    {
     "name": "stdin",
     "output_type": "stream",
     "text": [
      "Masukkan bilangan:  8\n"
     ]
    },
    {
     "name": "stdout",
     "output_type": "stream",
     "text": [
      "Bilangan positif dan genap\n"
     ]
    }
   ],
   "source": [
    "bil = float(input(\"Masukkan bilangan: \"))\n",
    "\n",
    "if bil > 0:\n",
    "    if bil % 2 == 0:\n",
    "        print(\"Bilangan positif dan genap\")\n",
    "    else:\n",
    "        print(\"Bilangan positif dan ganjil\")\n",
    "elif bil < 0:\n",
    "    print(\"Bilangan negatif\")\n",
    "else:\n",
    "    print(\"Bilangan nol\")"
   ]
  },
  {
   "cell_type": "markdown",
   "id": "3d51d88b-b921-4cdd-8c2c-769d9feb78ff",
   "metadata": {},
   "source": [
    "1. Break"
   ]
  },
  {
   "cell_type": "code",
   "execution_count": 48,
   "id": "d4a8f15e-dcdb-440c-bb80-6ff2655926e5",
   "metadata": {},
   "outputs": [
    {
     "name": "stdout",
     "output_type": "stream",
     "text": [
      "0\n",
      "1\n",
      "2\n",
      "3\n",
      "4\n",
      "5\n",
      "6\n",
      "7\n",
      "8\n",
      "9\n",
      "10\n"
     ]
    }
   ],
   "source": [
    "for i in range(1000):\n",
    "    print(i)\n",
    "    if i==10:\n",
    "        break"
   ]
  },
  {
   "cell_type": "markdown",
   "id": "cd77d068-1e7c-49da-9b45-8abd3cdb27f4",
   "metadata": {},
   "source": [
    "2.  Continue"
   ]
  },
  {
   "cell_type": "code",
   "execution_count": 50,
   "id": "701bf6ac-6666-4697-959a-7fa2790576c9",
   "metadata": {},
   "outputs": [
    {
     "name": "stdout",
     "output_type": "stream",
     "text": [
      "0\n",
      "1\n",
      "2\n",
      "3\n",
      "4\n",
      "6\n",
      "7\n",
      "8\n",
      "9\n"
     ]
    }
   ],
   "source": [
    "for i in range(10):\n",
    "    if i==5:\n",
    "        continue\n",
    "    print(i)"
   ]
  },
  {
   "cell_type": "code",
   "execution_count": 52,
   "id": "814a69c4-0791-40f9-8b67-576066d0b76c",
   "metadata": {},
   "outputs": [
    {
     "name": "stdin",
     "output_type": "stream",
     "text": [
      "masukkan jumlah baris:  8\n"
     ]
    },
    {
     "name": "stdout",
     "output_type": "stream",
     "text": [
      "1  \n",
      "2 2   \n",
      "3 3 3    \n",
      "4 4 4 4     \n",
      "5 5 5 5 5      \n",
      "6 6 6 6 6 6       \n",
      "7 7 7 7 7 7 7        \n",
      "8 8 8 8 8 8 8 8         \n"
     ]
    }
   ],
   "source": [
    "baris=int(input(\"masukkan jumlah baris: \"))\n",
    "\n",
    "for i in range(1, baris+1):\n",
    "    for j in range (1, i+1):\n",
    "        print(i, end=\" \")\n",
    "    for j in range(0,i):\n",
    "        print(\"\", end=\" \")\n",
    "    print()"
   ]
  },
  {
   "cell_type": "markdown",
   "id": "41ea756f-3585-4e49-b19c-0752eddd7d50",
   "metadata": {},
   "source": [
    "- Append\n",
    "alam Python, metode append [ ] digunakan untuk menambahkan (menyisipkan) elemen baru ke akhir sebuah list. Ini sangat berguna ketika Anda ingin memperluas atau menambahkan item ke dalam list tanpa membuat list baru."
   ]
  },
  {
   "cell_type": "code",
   "execution_count": 54,
   "id": "a4c1b616-02c2-443c-ae25-bd0fdad6d787",
   "metadata": {},
   "outputs": [
    {
     "name": "stdout",
     "output_type": "stream",
     "text": [
      "['apel', 'jeruk', 'pisang']\n"
     ]
    }
   ],
   "source": [
    "daftar_buah = []\n",
    "daftar_buah.append(\"apel\")\n",
    "daftar_buah.append(\"jeruk\")\n",
    "daftar_buah.append(\"pisang\")\n",
    "\n",
    "print(daftar_buah)  # Output: ['apel', 'jeruk', 'pisang']"
   ]
  },
  {
   "cell_type": "code",
   "execution_count": null,
   "id": "d87528dc-492e-405d-91c5-0c71f1b2d9e3",
   "metadata": {},
   "outputs": [
    {
     "name": "stdin",
     "output_type": "stream",
     "text": [
      "masukkan data 3\n"
     ]
    },
    {
     "name": "stdout",
     "output_type": "stream",
     "text": [
      "masukkan data [3]\n"
     ]
    },
    {
     "name": "stdin",
     "output_type": "stream",
     "text": [
      "masukkan data 1\n"
     ]
    },
    {
     "name": "stdout",
     "output_type": "stream",
     "text": [
      "masukkan data [3, 1]\n"
     ]
    },
    {
     "name": "stdin",
     "output_type": "stream",
     "text": [
      "masukkan data 7\n"
     ]
    },
    {
     "name": "stdout",
     "output_type": "stream",
     "text": [
      "masukkan data [3, 1, 7]\n"
     ]
    },
    {
     "name": "stdin",
     "output_type": "stream",
     "text": [
      "masukkan data 5\n"
     ]
    },
    {
     "name": "stdout",
     "output_type": "stream",
     "text": [
      "masukkan data [3, 1, 7, 5]\n"
     ]
    }
   ],
   "source": [
    "n=7\n",
    "x=[ ]\n",
    "for i in range(n):\n",
    "    x.append(int(input(\"masukkan data\")))\n",
    "    print(\"masukkan data\", x)"
   ]
  },
  {
   "cell_type": "code",
   "execution_count": null,
   "id": "2511ce9e-258a-4450-8174-d374c404f3cf",
   "metadata": {},
   "outputs": [],
   "source": []
  }
 ],
 "metadata": {
  "kernelspec": {
   "display_name": "Python 3 (ipykernel)",
   "language": "python",
   "name": "python3"
  },
  "language_info": {
   "codemirror_mode": {
    "name": "ipython",
    "version": 3
   },
   "file_extension": ".py",
   "mimetype": "text/x-python",
   "name": "python",
   "nbconvert_exporter": "python",
   "pygments_lexer": "ipython3",
   "version": "3.12.7"
  }
 },
 "nbformat": 4,
 "nbformat_minor": 5
}
